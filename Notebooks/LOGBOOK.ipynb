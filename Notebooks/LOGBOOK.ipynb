{
 "cells": [
  {
   "cell_type": "markdown",
   "metadata": {},
   "source": [
    "# Score-based Generative Models -- LOGBOOK\n",
    "\n",
    "Student: Prithvi Raj, pr478@cam.ac.uk\n",
    "\n",
    "Supervisor: Prof. Mark Girolami\n",
    "\n",
    "IIB Project Code: D-mag92-1\n"
   ]
  },
  {
   "cell_type": "markdown",
   "metadata": {},
   "source": [
    "## Summer\n",
    "\n",
    "Over summer, I briefly read the following papers:\n",
    "\n",
    "- [[1605.08803] Density estimation using Real NVP](https://arxiv.org/abs/1605.08803)\n",
    "- [[1907.05600] Generative Modeling by Estimating Gradients of the Data Distribution](https://arxiv.org/abs/1907.05600)\n",
    "- [[1807.03039] Glow: Generative Flow with Invertible 1x1 Convolutions](https://arxiv.org/abs/1807.03039)\n",
    "\n",
    "Given my unfamiliarity, I supplemented my understanding with the authors’ corresponding blog posts. I also explored the structure of their repositories, as well as Justin’s exemplar repositories, to better understand how to structure any machine learning codebases. \n",
    "\n",
    "As an exercise, I reorganized the tutorial on the score-based Stochastic Differential Equation (SDE) model, which was featured in a Colab notebook in the blog post below. This helped solidify my understanding of how professional research repositories are structured.\n",
    "\n",
    "[Generative Modeling by Estimating Gradients of the Data Distribution | Yang Song (yang-song.net)](https://yang-song.net/blog/2021/score/)\n",
    "\n",
    "My reorganised version can be found here: https://github.com/PritRaj1/Modularised-Score-based-SDE-Tutorial.git\n"
   ]
  },
  {
   "cell_type": "markdown",
   "metadata": {},
   "source": [
    "## Michaelmas\n",
    "\n",
    "### 03/10/2023\n",
    "\n",
    "Following the preliminary readings completed over summer regarding basic ideas in generative modelling, as well as the review of standard codebases and modular coding practices, today was dedicated towards reading around expectation maximisation, mixture models, and denoising diffusion models. I also began my implementation of a simple diffusion model. After struggling with this for some time, I have arranged a meeting with Justin in two days, to get guidance.\n",
    "\n",
    "### 05/10/2023\n",
    "\n",
    "Attended meeting with Justin and have developed a better understanding of how to implement the denoising diffusion model presented in this paper: [[2006.11239] Denoising Diffusion Probabilistic Models](https://arxiv.org/abs/2006.11239)\n",
    "\n",
    "Spent some time updating the notebook in the evening, however it is still not working.\n",
    "\n",
    "### 06/10/2023\n",
    "\n",
    "Spent more time on the notebook, but am having problems with nn.Embedding to encode time-info into my observations from the sklearn.make_moons dataset. \n"
   ]
  }
 ],
 "metadata": {
  "language_info": {
   "name": "python"
  }
 },
 "nbformat": 4,
 "nbformat_minor": 2
}
