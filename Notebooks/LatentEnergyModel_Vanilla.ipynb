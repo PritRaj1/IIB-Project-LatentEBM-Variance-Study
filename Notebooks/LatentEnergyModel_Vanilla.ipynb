{
 "cells": [
  {
   "cell_type": "code",
   "execution_count": null,
   "metadata": {},
   "outputs": [
    {
     "name": "stdout",
     "output_type": "stream",
     "text": [
      "Using torch 1.13.1\n"
     ]
    }
   ],
   "source": [
    "## Standard libraries\n",
    "import os\n",
    "import math\n",
    "import numpy as np \n",
    "import time\n",
    "\n",
    "## Imports for plotting\n",
    "import matplotlib.pyplot as plt\n",
    "%matplotlib inline \n",
    "import seaborn as sns\n",
    "# Set Seaborn style\n",
    "sns.set(style='darkgrid', font_scale=1.2)\n",
    "from sklearn.datasets import make_moons\n",
    "\n",
    "## Progress bar\n",
    "from tqdm.notebook import tqdm\n",
    "\n",
    "import torch\n",
    "print(\"Using torch\", torch.__version__)\n",
    "#torch.manual_seed(42) # Setting the seed\n",
    "import torch.nn as nn\n",
    "from torch.utils.data import DataLoader\n",
    "import torchvision.transforms as transforms\n",
    "import torchvision.datasets as datasets"
   ]
  },
  {
   "cell_type": "code",
   "execution_count": null,
   "metadata": {},
   "outputs": [],
   "source": [
    "class Generator(nn.Module):\n",
    "    def __init__(self, input_dim, output_dim):\n",
    "        super().__init__()\n",
    "        \n",
    "        self.layers = nn.Sequential(\n",
    "            nn.Linear(input_dim, 128),\n",
    "            nn.ReLU(),\n",
    "            nn.Linear(128, 128),\n",
    "            nn.ReLU(),\n",
    "            nn.Linear(128, output_dim)\n",
    "        )\n",
    "    \n",
    "    def forward(self, x):\n",
    "        return self.layers(x)\n",
    "\n",
    "class EBM(nn.Module):\n",
    "    def __init__(self, input_dim, output_dim):\n",
    "        super().__init__()\n",
    "        \n",
    "        self.layers = nn.Sequential(\n",
    "            nn.Linear(input_dim, 128),\n",
    "            nn.ReLU(),\n",
    "            nn.Linear(128, 128),\n",
    "            nn.ReLU(),\n",
    "            nn.Linear(128, output_dim)\n",
    "        )\n",
    "    \n",
    "    def forward(self, x):\n",
    "        # Returns grad_z[ f_a(z) ]\n",
    "        return self.layers(x)"
   ]
  },
  {
   "cell_type": "code",
   "execution_count": null,
   "metadata": {},
   "outputs": [],
   "source": [
    "class PriorSampler():\n",
    "    def __init__(self, K, s, device):\n",
    "        self.device = device\n",
    "        self.K = torch.tensor(K, device=self.device)\n",
    "        self.s = torch.tensor(s, device=self.device)\n",
    "    \n",
    "    def get_sample(self, x, EBM):\n",
    "        z_k = torch.randn_like(x, device=self.device)\n",
    "        step=0\n",
    "        while step < self.K:\n",
    "            z_k = z_k + self.s * (EBM(z_k)-z_k) + (torch.sqrt(2*self.s)*torch.randn_like(z_k, device=self.device))\n",
    "            step += 1\n",
    "        \n",
    "        return z_k\n",
    "\n",
    "class PosteriorSamples():\n",
    "    def __init__(self, K, s, device):\n",
    "        self.device = device\n",
    "        self.K = torch.tensor(K, device=self.device)\n",
    "        self.s = torch.tensor(s, device=self.device)\n",
    "    \n",
    "    def get_sample(self, x, z_prior, GEN):\n",
    "        # Sample from prior\n",
    "        z_k = z_prior\n",
    "        step=0\n",
    "        while step < self.K:\n",
    "            g_k = GEN(z_k)\n",
    "            \n",
    "            # x = g(z) + eps\n",
    "            x_k = g_k + torch.randn_like(x, device=self.device) \n",
    "            z_k = z_k + self.s * -2*(x_k - g_k) + (torch.sqrt(2*self.s)*torch.randn_like(z_k, device=self.device))\n",
    "            step += 1\n",
    "        \n",
    "        return z_k"
   ]
  },
  {
   "cell_type": "code",
   "execution_count": null,
   "metadata": {},
   "outputs": [],
   "source": [
    "def loss_function(x, z, ):\n",
    "    log_prior = -0.5 * torch.square(z)\n",
    "    log_likelihood = -0.5 * torch.square(x - GEN(z))\n",
    "    return torch.mean(log_prior + log_likelihood)"
   ]
  },
  {
   "cell_type": "code",
   "execution_count": null,
   "metadata": {},
   "outputs": [
    {
     "data": {
      "application/vnd.jupyter.widget-view+json": {
       "model_id": "3c9b20eb0a3b459c8409989e3c9f92dd",
       "version_major": 2,
       "version_minor": 0
      },
      "text/plain": [
       "  0%|          | 0/1000 [00:00<?, ?it/s]"
      ]
     },
     "metadata": {},
     "output_type": "display_data"
    },
    {
     "ename": "TypeError",
     "evalue": "sqrt(): argument 'input' (position 1) must be Tensor, not float",
     "output_type": "error",
     "traceback": [
      "\u001b[0;31m---------------------------------------------------------------------------\u001b[0m",
      "\u001b[0;31mTypeError\u001b[0m                                 Traceback (most recent call last)",
      "\u001b[0;32m/tmp/ipykernel_406433/4152613273.py\u001b[0m in \u001b[0;36m<module>\u001b[0;34m\u001b[0m\n\u001b[1;32m     39\u001b[0m \u001b[0;34m\u001b[0m\u001b[0m\n\u001b[1;32m     40\u001b[0m     \u001b[0;31m# 1. Forward Pass -- Sample from exponentially-tilted prior\u001b[0m\u001b[0;34m\u001b[0m\u001b[0;34m\u001b[0m\u001b[0;34m\u001b[0m\u001b[0m\n\u001b[0;32m---> 41\u001b[0;31m     \u001b[0mz_0\u001b[0m \u001b[0;34m=\u001b[0m \u001b[0mprior_smp\u001b[0m\u001b[0;34m.\u001b[0m\u001b[0mget_sample\u001b[0m\u001b[0;34m(\u001b[0m\u001b[0mx\u001b[0m\u001b[0;34m,\u001b[0m \u001b[0mEBMnet\u001b[0m\u001b[0;34m)\u001b[0m\u001b[0;34m\u001b[0m\u001b[0;34m\u001b[0m\u001b[0m\n\u001b[0m\u001b[1;32m     42\u001b[0m     \u001b[0mz_K\u001b[0m \u001b[0;34m=\u001b[0m  \u001b[0mpost_smp\u001b[0m\u001b[0;34m.\u001b[0m\u001b[0mget_sample\u001b[0m\u001b[0;34m(\u001b[0m\u001b[0mx\u001b[0m\u001b[0;34m,\u001b[0m \u001b[0mz_0\u001b[0m\u001b[0;34m,\u001b[0m \u001b[0mGENnet\u001b[0m\u001b[0;34m)\u001b[0m\u001b[0;34m\u001b[0m\u001b[0;34m\u001b[0m\u001b[0m\n\u001b[1;32m     43\u001b[0m \u001b[0;34m\u001b[0m\u001b[0m\n",
      "\u001b[0;32m/tmp/ipykernel_406433/2913319100.py\u001b[0m in \u001b[0;36mget_sample\u001b[0;34m(self, x, EBM)\u001b[0m\n\u001b[1;32m      9\u001b[0m         \u001b[0mstep\u001b[0m\u001b[0;34m=\u001b[0m\u001b[0;36m0\u001b[0m\u001b[0;34m\u001b[0m\u001b[0;34m\u001b[0m\u001b[0m\n\u001b[1;32m     10\u001b[0m         \u001b[0;32mwhile\u001b[0m \u001b[0mstep\u001b[0m \u001b[0;34m<\u001b[0m \u001b[0mself\u001b[0m\u001b[0;34m.\u001b[0m\u001b[0mK\u001b[0m\u001b[0;34m:\u001b[0m\u001b[0;34m\u001b[0m\u001b[0;34m\u001b[0m\u001b[0m\n\u001b[0;32m---> 11\u001b[0;31m             \u001b[0mz_k\u001b[0m \u001b[0;34m=\u001b[0m \u001b[0mz_k\u001b[0m \u001b[0;34m+\u001b[0m \u001b[0mself\u001b[0m\u001b[0;34m.\u001b[0m\u001b[0ms\u001b[0m \u001b[0;34m*\u001b[0m \u001b[0;34m(\u001b[0m\u001b[0mEBM\u001b[0m\u001b[0;34m(\u001b[0m\u001b[0mz_k\u001b[0m\u001b[0;34m)\u001b[0m\u001b[0;34m-\u001b[0m\u001b[0mz_k\u001b[0m\u001b[0;34m)\u001b[0m \u001b[0;34m+\u001b[0m \u001b[0;34m(\u001b[0m\u001b[0mtorch\u001b[0m\u001b[0;34m.\u001b[0m\u001b[0msqrt\u001b[0m\u001b[0;34m(\u001b[0m\u001b[0;36m2\u001b[0m\u001b[0;34m*\u001b[0m\u001b[0mself\u001b[0m\u001b[0;34m.\u001b[0m\u001b[0ms\u001b[0m\u001b[0;34m)\u001b[0m\u001b[0;34m*\u001b[0m\u001b[0mtorch\u001b[0m\u001b[0;34m.\u001b[0m\u001b[0mrandn_like\u001b[0m\u001b[0;34m(\u001b[0m\u001b[0mz_k\u001b[0m\u001b[0;34m,\u001b[0m \u001b[0mdevice\u001b[0m\u001b[0;34m=\u001b[0m\u001b[0mself\u001b[0m\u001b[0;34m.\u001b[0m\u001b[0mdevice\u001b[0m\u001b[0;34m)\u001b[0m\u001b[0;34m)\u001b[0m\u001b[0;34m\u001b[0m\u001b[0;34m\u001b[0m\u001b[0m\n\u001b[0m\u001b[1;32m     12\u001b[0m             \u001b[0mstep\u001b[0m \u001b[0;34m+=\u001b[0m \u001b[0;36m1\u001b[0m\u001b[0;34m\u001b[0m\u001b[0;34m\u001b[0m\u001b[0m\n\u001b[1;32m     13\u001b[0m \u001b[0;34m\u001b[0m\u001b[0m\n",
      "\u001b[0;31mTypeError\u001b[0m: sqrt(): argument 'input' (position 1) must be Tensor, not float"
     ]
    }
   ],
   "source": [
    "NUM_EPOCHS = 1000\n",
    "BATCH_SIZE = 128\n",
    "LR = 1e-3\n",
    "K_prior = 20\n",
    "K_posterior = 20\n",
    "\n",
    "device = \"cuda\" if torch.cuda.is_available() else \"cpu\"\n",
    "EBMnet = EBM(784, 784).to(device)\n",
    "prior_smp = PriorSampler(K_prior, 0.1, device)\n",
    "post_smp = PosteriorSamples(K_posterior, 0.1, device)\n",
    "GENnet = Generator(784, 784).to(device)\n",
    "\n",
    "# Transforms to apply to dataset. Normalising improves data convergence, numerical stability, and regularisation.\n",
    "transform = transforms.Compose([\n",
    "    transforms.ToTensor(),\n",
    "    transforms.Normalize((0.5,), (0.5,))\n",
    "])\n",
    "\n",
    "# Create instance of MNIST dataset\n",
    "dataset = datasets.MNIST(root=\"dataset/\", transform=transform, download=True)\n",
    "\n",
    "# Create DataLoader to effectively load data from the above dataset in batches\n",
    "loader = DataLoader(dataset, batch_size=BATCH_SIZE, shuffle=True)\n",
    "\n",
    "loss_fn = loss_function\n",
    "optimiserEMB = torch.optim.Adam(EBMnet.parameters(), lr=LR, amsgrad=True)\n",
    "optimiserGEN = torch.optim.Adam(GENnet.parameters(), lr=LR, amsgrad=True)\n",
    "\n",
    "# Calculate the number of rows and columns for subplots\n",
    "sample_every = 250 \n",
    "num_plots = (NUM_EPOCHS // sample_every) - 1\n",
    "num_cols = min(5, num_plots)  # Maximum of 2 columns\n",
    "num_rows = (num_plots - 1) // num_cols + 1\n",
    "\n",
    "for epoch in tqdm(range(NUM_EPOCHS)):\n",
    "  for batch_idx, (x, _) in enumerate(loader): # Load real data in batches\n",
    "    x = x.view(-1, 784).to(device)\n",
    "    batch_size = x.shape[0]\n",
    "\n",
    "    # 1. Forward Pass -- Sample from exponentially-tilted prior\n",
    "    z_0 = prior_smp.get_sample(x, EBMnet)\n",
    "    z_K =  post_smp.get_sample(x, z_0, GENnet)\n",
    "\n",
    "    # 2. Compute loss\n",
    "    loss = loss_fn(x, z_K, GENnet)\n",
    "\n",
    "    # 3. Backward Pass\n",
    "    optimiserEMB.zero_grad()\n",
    "    optimiserGEN.zero_grad()\n",
    "    loss.backward()\n",
    "\n",
    "    # 4. Update model\n",
    "    optimiserEMB.step()\n",
    "    optimiserGEN.step()\n",
    "  \n",
    "  if epoch % sample_every == 0 or epoch == NUM_EPOCHS:\n",
    "    with torch.no_grad():\n",
    "      z = torch.randn(784, 1).to(device)\n",
    "      samples = GENnet(z).view(-1, 28, 28).detach().cpu()\n",
    "\n",
    "      plot_num = (epoch // sample_every) - 1\n",
    "      row = plot_num // num_cols\n",
    "      col = (plot_num % num_cols)\n",
    "\n",
    "      # Plot samples\n",
    "      axs[row, col].imshow(make_grid(samples, nrow=10).permute(1, 2, 0))\n",
    "      axs[row, col].set_xticks([])\n",
    "      axs[row, col].set_yticks([])\n",
    "      axs[row, col].set_title(f'Epoch: {epoch}')\n",
    "\n",
    "plt.show()\n",
    "      \n",
    "\n",
    "\n"
   ]
  }
 ],
 "metadata": {
  "kernelspec": {
   "display_name": "score_based_flows",
   "language": "python",
   "name": "python3"
  },
  "language_info": {
   "codemirror_mode": {
    "name": "ipython",
    "version": 3
   },
   "file_extension": ".py",
   "mimetype": "text/x-python",
   "name": "python",
   "nbconvert_exporter": "python",
   "pygments_lexer": "ipython3",
   "version": "3.7.12"
  }
 },
 "nbformat": 4,
 "nbformat_minor": 2
}
